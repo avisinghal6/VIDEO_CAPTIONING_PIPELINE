{
  "nbformat": 4,
  "nbformat_minor": 0,
  "metadata": {
    "colab": {
      "provenance": [],
      "authorship_tag": "ABX9TyPjtXpraX1cu+2keekLD2rh",
      "include_colab_link": true
    },
    "kernelspec": {
      "name": "python3",
      "display_name": "Python 3"
    },
    "language_info": {
      "name": "python"
    }
  },
  "cells": [
    {
      "cell_type": "markdown",
      "metadata": {
        "id": "view-in-github",
        "colab_type": "text"
      },
      "source": [
        "<a href=\"https://colab.research.google.com/github/avisinghal6/VIDEO_CAPTIONING_PIPELINE/blob/main/Pipeline.ipynb\" target=\"_parent\"><img src=\"https://colab.research.google.com/assets/colab-badge.svg\" alt=\"Open In Colab\"/></a>"
      ]
    },
    {
      "cell_type": "code",
      "execution_count": null,
      "metadata": {
        "id": "cUrktl6lcddj"
      },
      "outputs": [],
      "source": [
        "import torch\n",
        "import torch.nn as nn\n",
        "import torchvision.models as models\n",
        "import torchvision.transforms as transforms\n",
        "from torch.autograd import Variable\n",
        "from PIL import Image\n",
        "from frames.py import *\n",
        "from model.py import *"
      ]
    },
    {
      "cell_type": "code",
      "source": [
        "#GENERATING FRAMES\n",
        "videos_list={}\n",
        "videos_time_stamps=get_saving_frames_durations(5,\"content/dvc_results.json\")\n",
        "for time_stamp in videos_time_stamps:\n",
        "  for key,value in time_stamp:\n",
        "    generate_frames(f'content/{key}',value,videos_list)"
      ],
      "metadata": {
        "id": "RAduu9yIJgnI"
      },
      "execution_count": null,
      "outputs": []
    },
    {
      "cell_type": "code",
      "source": [
        "#GENERATING FEATURES\n",
        "img2vec = Img2VecResnet18() \n",
        "videos_features_vectors={}\n",
        "for time_stamp in videos_time_stamps:\n",
        "  allVectors={}\n",
        "  for key,value in time_stamp.items():\n",
        "    for image in tqdm(os.listdir(f'/content/{key}-opencv')):\n",
        "      I = Image.open(os.path.join(f'/content/{key}-opencv', image))\n",
        "      vec = img2vec.getVec(I)\n",
        "      allVectors[image] = vec\n",
        "      I.close() \n",
        "    videos_features_vectors[key]=allVectors"
      ],
      "metadata": {
        "id": "XLdWtbQsLjRz"
      },
      "execution_count": null,
      "outputs": []
    },
    {
      "cell_type": "code",
      "source": [
        "#COMPUTING SIMILARITY BETWEEN FRAMES\n",
        "result=get_similar_frames(videos_features_vectors)"
      ],
      "metadata": {
        "id": "ANUTv_W7I26K"
      },
      "execution_count": null,
      "outputs": []
    },
    {
      "cell_type": "code",
      "source": [
        "#GETTING FINAL FRAMES FOR EACH VIDEO\n",
        "final_frames=get_final_frames(results)"
      ],
      "metadata": {
        "id": "cqhhOL4DJB1B"
      },
      "execution_count": null,
      "outputs": []
    },
    {
      "cell_type": "code",
      "source": [
        "#USE FINAL FRAMES FOR CAPTIONING"
      ],
      "metadata": {
        "id": "HOTpFwXlJB3e"
      },
      "execution_count": null,
      "outputs": []
    },
    {
      "cell_type": "code",
      "source": [],
      "metadata": {
        "id": "4Otl0OeeJB6B"
      },
      "execution_count": null,
      "outputs": []
    }
  ]
}